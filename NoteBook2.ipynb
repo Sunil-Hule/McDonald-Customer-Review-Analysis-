{
  "nbformat": 4,
  "nbformat_minor": 0,
  "metadata": {
    "colab": {
      "provenance": [],
      "gpuType": "T4"
    },
    "kernelspec": {
      "name": "python3",
      "display_name": "Python 3"
    },
    "language_info": {
      "name": "python"
    },
    "accelerator": "GPU"
  },
  "cells": [
    {
      "cell_type": "code",
      "source": [
        "from transformers import AutoTokenizer, AutoModelForSequenceClassification\n",
        "from scipy.special import softmax"
      ],
      "metadata": {
        "id": "wPJfzWZ-bmhJ"
      },
      "execution_count": null,
      "outputs": []
    },
    {
      "cell_type": "code",
      "source": [
        "import pandas as pd\n",
        "df2 = pd.read_csv('McDonald_s_Reviews.csv', encoding=\"ISO-8859-1\")\n",
        "df2.head()"
      ],
      "metadata": {
        "colab": {
          "base_uri": "https://localhost:8080/",
          "height": 486
        },
        "id": "hnVx_Q_lcok1",
        "outputId": "4daebc9b-a55d-4c53-f168-12ca433c7d7d"
      },
      "execution_count": null,
      "outputs": [
        {
          "output_type": "execute_result",
          "data": {
            "text/plain": [
              "   reviewer_id  store_name              category  \\\n",
              "0            1  McDonald's  Fast food restaurant   \n",
              "1            2  McDonald's  Fast food restaurant   \n",
              "2            3  McDonald's  Fast food restaurant   \n",
              "3            4  McDonald's  Fast food restaurant   \n",
              "4            5  McDonald's  Fast food restaurant   \n",
              "\n",
              "                                       store_address  latitude   longitude  \\\n",
              "0  13749 US-183 Hwy, Austin, TX 78750, United States  30.460718 -97.792874   \n",
              "1  13749 US-183 Hwy, Austin, TX 78750, United States  30.460718 -97.792874   \n",
              "2  13749 US-183 Hwy, Austin, TX 78750, United States  30.460718 -97.792874   \n",
              "3  13749 US-183 Hwy, Austin, TX 78750, United States  30.460718 -97.792874   \n",
              "4  13749 US-183 Hwy, Austin, TX 78750, United States  30.460718 -97.792874   \n",
              "\n",
              "  rating_count   review_time  \\\n",
              "0        1,240  3 months ago   \n",
              "1        1,240    5 days ago   \n",
              "2        1,240    5 days ago   \n",
              "3        1,240   a month ago   \n",
              "4        1,240  2 months ago   \n",
              "\n",
              "                                              review   rating  \n",
              "0  Why does it look like someone spit on my food?...   1 star  \n",
              "1  It'd McDonalds. It is what it is as far as the...  4 stars  \n",
              "2  Made a mobile order got to the speaker and che...   1 star  \n",
              "3  My mc. Crispy chicken sandwich was ï¿½ï¿½ï¿½ï¿...  5 stars  \n",
              "4  I repeat my order 3 times in the drive thru, a...   1 star  "
            ],
            "text/html": [
              "\n",
              "  <div id=\"df-c330bb9c-3089-40ba-ae01-26fc5dfc9df3\" class=\"colab-df-container\">\n",
              "    <div>\n",
              "<style scoped>\n",
              "    .dataframe tbody tr th:only-of-type {\n",
              "        vertical-align: middle;\n",
              "    }\n",
              "\n",
              "    .dataframe tbody tr th {\n",
              "        vertical-align: top;\n",
              "    }\n",
              "\n",
              "    .dataframe thead th {\n",
              "        text-align: right;\n",
              "    }\n",
              "</style>\n",
              "<table border=\"1\" class=\"dataframe\">\n",
              "  <thead>\n",
              "    <tr style=\"text-align: right;\">\n",
              "      <th></th>\n",
              "      <th>reviewer_id</th>\n",
              "      <th>store_name</th>\n",
              "      <th>category</th>\n",
              "      <th>store_address</th>\n",
              "      <th>latitude</th>\n",
              "      <th>longitude</th>\n",
              "      <th>rating_count</th>\n",
              "      <th>review_time</th>\n",
              "      <th>review</th>\n",
              "      <th>rating</th>\n",
              "    </tr>\n",
              "  </thead>\n",
              "  <tbody>\n",
              "    <tr>\n",
              "      <th>0</th>\n",
              "      <td>1</td>\n",
              "      <td>McDonald's</td>\n",
              "      <td>Fast food restaurant</td>\n",
              "      <td>13749 US-183 Hwy, Austin, TX 78750, United States</td>\n",
              "      <td>30.460718</td>\n",
              "      <td>-97.792874</td>\n",
              "      <td>1,240</td>\n",
              "      <td>3 months ago</td>\n",
              "      <td>Why does it look like someone spit on my food?...</td>\n",
              "      <td>1 star</td>\n",
              "    </tr>\n",
              "    <tr>\n",
              "      <th>1</th>\n",
              "      <td>2</td>\n",
              "      <td>McDonald's</td>\n",
              "      <td>Fast food restaurant</td>\n",
              "      <td>13749 US-183 Hwy, Austin, TX 78750, United States</td>\n",
              "      <td>30.460718</td>\n",
              "      <td>-97.792874</td>\n",
              "      <td>1,240</td>\n",
              "      <td>5 days ago</td>\n",
              "      <td>It'd McDonalds. It is what it is as far as the...</td>\n",
              "      <td>4 stars</td>\n",
              "    </tr>\n",
              "    <tr>\n",
              "      <th>2</th>\n",
              "      <td>3</td>\n",
              "      <td>McDonald's</td>\n",
              "      <td>Fast food restaurant</td>\n",
              "      <td>13749 US-183 Hwy, Austin, TX 78750, United States</td>\n",
              "      <td>30.460718</td>\n",
              "      <td>-97.792874</td>\n",
              "      <td>1,240</td>\n",
              "      <td>5 days ago</td>\n",
              "      <td>Made a mobile order got to the speaker and che...</td>\n",
              "      <td>1 star</td>\n",
              "    </tr>\n",
              "    <tr>\n",
              "      <th>3</th>\n",
              "      <td>4</td>\n",
              "      <td>McDonald's</td>\n",
              "      <td>Fast food restaurant</td>\n",
              "      <td>13749 US-183 Hwy, Austin, TX 78750, United States</td>\n",
              "      <td>30.460718</td>\n",
              "      <td>-97.792874</td>\n",
              "      <td>1,240</td>\n",
              "      <td>a month ago</td>\n",
              "      <td>My mc. Crispy chicken sandwich was ï¿½ï¿½ï¿½ï¿...</td>\n",
              "      <td>5 stars</td>\n",
              "    </tr>\n",
              "    <tr>\n",
              "      <th>4</th>\n",
              "      <td>5</td>\n",
              "      <td>McDonald's</td>\n",
              "      <td>Fast food restaurant</td>\n",
              "      <td>13749 US-183 Hwy, Austin, TX 78750, United States</td>\n",
              "      <td>30.460718</td>\n",
              "      <td>-97.792874</td>\n",
              "      <td>1,240</td>\n",
              "      <td>2 months ago</td>\n",
              "      <td>I repeat my order 3 times in the drive thru, a...</td>\n",
              "      <td>1 star</td>\n",
              "    </tr>\n",
              "  </tbody>\n",
              "</table>\n",
              "</div>\n",
              "    <div class=\"colab-df-buttons\">\n",
              "\n",
              "  <div class=\"colab-df-container\">\n",
              "    <button class=\"colab-df-convert\" onclick=\"convertToInteractive('df-c330bb9c-3089-40ba-ae01-26fc5dfc9df3')\"\n",
              "            title=\"Convert this dataframe to an interactive table.\"\n",
              "            style=\"display:none;\">\n",
              "\n",
              "  <svg xmlns=\"http://www.w3.org/2000/svg\" height=\"24px\" viewBox=\"0 -960 960 960\">\n",
              "    <path d=\"M120-120v-720h720v720H120Zm60-500h600v-160H180v160Zm220 220h160v-160H400v160Zm0 220h160v-160H400v160ZM180-400h160v-160H180v160Zm440 0h160v-160H620v160ZM180-180h160v-160H180v160Zm440 0h160v-160H620v160Z\"/>\n",
              "  </svg>\n",
              "    </button>\n",
              "\n",
              "  <style>\n",
              "    .colab-df-container {\n",
              "      display:flex;\n",
              "      gap: 12px;\n",
              "    }\n",
              "\n",
              "    .colab-df-convert {\n",
              "      background-color: #E8F0FE;\n",
              "      border: none;\n",
              "      border-radius: 50%;\n",
              "      cursor: pointer;\n",
              "      display: none;\n",
              "      fill: #1967D2;\n",
              "      height: 32px;\n",
              "      padding: 0 0 0 0;\n",
              "      width: 32px;\n",
              "    }\n",
              "\n",
              "    .colab-df-convert:hover {\n",
              "      background-color: #E2EBFA;\n",
              "      box-shadow: 0px 1px 2px rgba(60, 64, 67, 0.3), 0px 1px 3px 1px rgba(60, 64, 67, 0.15);\n",
              "      fill: #174EA6;\n",
              "    }\n",
              "\n",
              "    .colab-df-buttons div {\n",
              "      margin-bottom: 4px;\n",
              "    }\n",
              "\n",
              "    [theme=dark] .colab-df-convert {\n",
              "      background-color: #3B4455;\n",
              "      fill: #D2E3FC;\n",
              "    }\n",
              "\n",
              "    [theme=dark] .colab-df-convert:hover {\n",
              "      background-color: #434B5C;\n",
              "      box-shadow: 0px 1px 3px 1px rgba(0, 0, 0, 0.15);\n",
              "      filter: drop-shadow(0px 1px 2px rgba(0, 0, 0, 0.3));\n",
              "      fill: #FFFFFF;\n",
              "    }\n",
              "  </style>\n",
              "\n",
              "    <script>\n",
              "      const buttonEl =\n",
              "        document.querySelector('#df-c330bb9c-3089-40ba-ae01-26fc5dfc9df3 button.colab-df-convert');\n",
              "      buttonEl.style.display =\n",
              "        google.colab.kernel.accessAllowed ? 'block' : 'none';\n",
              "\n",
              "      async function convertToInteractive(key) {\n",
              "        const element = document.querySelector('#df-c330bb9c-3089-40ba-ae01-26fc5dfc9df3');\n",
              "        const dataTable =\n",
              "          await google.colab.kernel.invokeFunction('convertToInteractive',\n",
              "                                                    [key], {});\n",
              "        if (!dataTable) return;\n",
              "\n",
              "        const docLinkHtml = 'Like what you see? Visit the ' +\n",
              "          '<a target=\"_blank\" href=https://colab.research.google.com/notebooks/data_table.ipynb>data table notebook</a>'\n",
              "          + ' to learn more about interactive tables.';\n",
              "        element.innerHTML = '';\n",
              "        dataTable['output_type'] = 'display_data';\n",
              "        await google.colab.output.renderOutput(dataTable, element);\n",
              "        const docLink = document.createElement('div');\n",
              "        docLink.innerHTML = docLinkHtml;\n",
              "        element.appendChild(docLink);\n",
              "      }\n",
              "    </script>\n",
              "  </div>\n",
              "\n",
              "\n",
              "<div id=\"df-4a05277f-5366-4df7-8559-aeac9a53cbef\">\n",
              "  <button class=\"colab-df-quickchart\" onclick=\"quickchart('df-4a05277f-5366-4df7-8559-aeac9a53cbef')\"\n",
              "            title=\"Suggest charts\"\n",
              "            style=\"display:none;\">\n",
              "\n",
              "<svg xmlns=\"http://www.w3.org/2000/svg\" height=\"24px\"viewBox=\"0 0 24 24\"\n",
              "     width=\"24px\">\n",
              "    <g>\n",
              "        <path d=\"M19 3H5c-1.1 0-2 .9-2 2v14c0 1.1.9 2 2 2h14c1.1 0 2-.9 2-2V5c0-1.1-.9-2-2-2zM9 17H7v-7h2v7zm4 0h-2V7h2v10zm4 0h-2v-4h2v4z\"/>\n",
              "    </g>\n",
              "</svg>\n",
              "  </button>\n",
              "\n",
              "<style>\n",
              "  .colab-df-quickchart {\n",
              "      --bg-color: #E8F0FE;\n",
              "      --fill-color: #1967D2;\n",
              "      --hover-bg-color: #E2EBFA;\n",
              "      --hover-fill-color: #174EA6;\n",
              "      --disabled-fill-color: #AAA;\n",
              "      --disabled-bg-color: #DDD;\n",
              "  }\n",
              "\n",
              "  [theme=dark] .colab-df-quickchart {\n",
              "      --bg-color: #3B4455;\n",
              "      --fill-color: #D2E3FC;\n",
              "      --hover-bg-color: #434B5C;\n",
              "      --hover-fill-color: #FFFFFF;\n",
              "      --disabled-bg-color: #3B4455;\n",
              "      --disabled-fill-color: #666;\n",
              "  }\n",
              "\n",
              "  .colab-df-quickchart {\n",
              "    background-color: var(--bg-color);\n",
              "    border: none;\n",
              "    border-radius: 50%;\n",
              "    cursor: pointer;\n",
              "    display: none;\n",
              "    fill: var(--fill-color);\n",
              "    height: 32px;\n",
              "    padding: 0;\n",
              "    width: 32px;\n",
              "  }\n",
              "\n",
              "  .colab-df-quickchart:hover {\n",
              "    background-color: var(--hover-bg-color);\n",
              "    box-shadow: 0 1px 2px rgba(60, 64, 67, 0.3), 0 1px 3px 1px rgba(60, 64, 67, 0.15);\n",
              "    fill: var(--button-hover-fill-color);\n",
              "  }\n",
              "\n",
              "  .colab-df-quickchart-complete:disabled,\n",
              "  .colab-df-quickchart-complete:disabled:hover {\n",
              "    background-color: var(--disabled-bg-color);\n",
              "    fill: var(--disabled-fill-color);\n",
              "    box-shadow: none;\n",
              "  }\n",
              "\n",
              "  .colab-df-spinner {\n",
              "    border: 2px solid var(--fill-color);\n",
              "    border-color: transparent;\n",
              "    border-bottom-color: var(--fill-color);\n",
              "    animation:\n",
              "      spin 1s steps(1) infinite;\n",
              "  }\n",
              "\n",
              "  @keyframes spin {\n",
              "    0% {\n",
              "      border-color: transparent;\n",
              "      border-bottom-color: var(--fill-color);\n",
              "      border-left-color: var(--fill-color);\n",
              "    }\n",
              "    20% {\n",
              "      border-color: transparent;\n",
              "      border-left-color: var(--fill-color);\n",
              "      border-top-color: var(--fill-color);\n",
              "    }\n",
              "    30% {\n",
              "      border-color: transparent;\n",
              "      border-left-color: var(--fill-color);\n",
              "      border-top-color: var(--fill-color);\n",
              "      border-right-color: var(--fill-color);\n",
              "    }\n",
              "    40% {\n",
              "      border-color: transparent;\n",
              "      border-right-color: var(--fill-color);\n",
              "      border-top-color: var(--fill-color);\n",
              "    }\n",
              "    60% {\n",
              "      border-color: transparent;\n",
              "      border-right-color: var(--fill-color);\n",
              "    }\n",
              "    80% {\n",
              "      border-color: transparent;\n",
              "      border-right-color: var(--fill-color);\n",
              "      border-bottom-color: var(--fill-color);\n",
              "    }\n",
              "    90% {\n",
              "      border-color: transparent;\n",
              "      border-bottom-color: var(--fill-color);\n",
              "    }\n",
              "  }\n",
              "</style>\n",
              "\n",
              "  <script>\n",
              "    async function quickchart(key) {\n",
              "      const quickchartButtonEl =\n",
              "        document.querySelector('#' + key + ' button');\n",
              "      quickchartButtonEl.disabled = true;  // To prevent multiple clicks.\n",
              "      quickchartButtonEl.classList.add('colab-df-spinner');\n",
              "      try {\n",
              "        const charts = await google.colab.kernel.invokeFunction(\n",
              "            'suggestCharts', [key], {});\n",
              "      } catch (error) {\n",
              "        console.error('Error during call to suggestCharts:', error);\n",
              "      }\n",
              "      quickchartButtonEl.classList.remove('colab-df-spinner');\n",
              "      quickchartButtonEl.classList.add('colab-df-quickchart-complete');\n",
              "    }\n",
              "    (() => {\n",
              "      let quickchartButtonEl =\n",
              "        document.querySelector('#df-4a05277f-5366-4df7-8559-aeac9a53cbef button');\n",
              "      quickchartButtonEl.style.display =\n",
              "        google.colab.kernel.accessAllowed ? 'block' : 'none';\n",
              "    })();\n",
              "  </script>\n",
              "</div>\n",
              "    </div>\n",
              "  </div>\n"
            ]
          },
          "metadata": {},
          "execution_count": 2
        }
      ]
    },
    {
      "cell_type": "code",
      "source": [
        "def clean(review):\n",
        "    review = review.lower()\n",
        "    review = review.replace('ï', '')\n",
        "    review = review.replace('¿', '')\n",
        "    review = review.replace('½', '')\n",
        "    review = review.replace('ý', '')\n",
        "    review = \" \".join(review.split())\n",
        "    review = review.rstrip()\n",
        "    return review\n",
        "\n",
        "df2['clean_review'] = [clean(review) for review in df2['review']]"
      ],
      "metadata": {
        "id": "bVHkov0hconY"
      },
      "execution_count": null,
      "outputs": []
    },
    {
      "cell_type": "code",
      "source": [
        "#reviews = df2['clean_review']\n",
        "import re\n",
        "\n",
        "def remove_punctuation(text):\n",
        "    return re.sub(r'[^\\w\\s]', '', text)\n",
        "df2['clean_review'] = df2['clean_review'].apply(remove_punctuation)\n"
      ],
      "metadata": {
        "id": "DQKvYd8gcoqM"
      },
      "execution_count": null,
      "outputs": []
    },
    {
      "cell_type": "code",
      "source": [
        "reviews = df2['clean_review']"
      ],
      "metadata": {
        "id": "8huRimCNtoxo"
      },
      "execution_count": null,
      "outputs": []
    },
    {
      "cell_type": "code",
      "source": [
        "reviews[0]"
      ],
      "metadata": {
        "colab": {
          "base_uri": "https://localhost:8080/",
          "height": 87
        },
        "id": "hI3PjP2qyduJ",
        "outputId": "61a1e74d-6941-429d-d8e1-19626a7013c1"
      },
      "execution_count": null,
      "outputs": [
        {
          "output_type": "execute_result",
          "data": {
            "text/plain": [
              "'why does it look like someone spit on my food i had a normal transaction everyone was chill and polite but now i dont want to eat this im trying not to think about what this milky whiteclear substance is all over my food i d sure am not coming back'"
            ],
            "application/vnd.google.colaboratory.intrinsic+json": {
              "type": "string"
            }
          },
          "metadata": {},
          "execution_count": 6
        }
      ]
    },
    {
      "cell_type": "code",
      "execution_count": null,
      "metadata": {
        "id": "fHW48vK7bTy8"
      },
      "outputs": [],
      "source": [
        "roberta = \"cardiffnlp/twitter-roberta-base-sentiment\"\n",
        "model = AutoModelForSequenceClassification.from_pretrained(roberta)\n",
        "model.to(\"cuda\")\n",
        "tokenizer = AutoTokenizer.from_pretrained(roberta,model_max_length = 514)\n",
        "\n",
        "labels = ['Negative', 'Neutral', 'Positive']"
      ]
    },
    {
      "cell_type": "code",
      "source": [
        "from tqdm import tqdm\n",
        "res= []\n",
        "i = 0\n",
        "for review in tqdm(reviews):\n",
        "  try:\n",
        "    encodedReview = tokenizer(review, return_tensors='pt').to('cuda')\n",
        "    output = model(**encodedReview)\n",
        "    scores = output[0][0].detach().cpu().numpy()\n",
        "    scores = softmax(scores)\n",
        "    res.append(scores)\n",
        "  except Exception as e:\n",
        "    print(e)\n",
        "    i +=1\n",
        "    print(i)\n",
        "    res.append(None)\n",
        "\n",
        "  # for i in range(len(scores)):\n",
        "  #   l = labels[i]\n",
        "  #   s = scores[i]\n",
        "  #   print(l,round((s*100),2))"
      ],
      "metadata": {
        "colab": {
          "base_uri": "https://localhost:8080/"
        },
        "id": "1birUfRQbmot",
        "outputId": "5f8b56f3-f051-401b-c0af-514bb0ea4817"
      },
      "execution_count": null,
      "outputs": [
        {
          "output_type": "stream",
          "name": "stderr",
          "text": [
            " 52%|█████▏    | 17325/33396 [05:12<04:36, 58.02it/s]"
          ]
        },
        {
          "output_type": "stream",
          "name": "stdout",
          "text": [
            "The expanded size of the tensor (566) must match the existing size (514) at non-singleton dimension 1.  Target sizes: [1, 566].  Tensor sizes: [1, 514]\n",
            "1\n"
          ]
        },
        {
          "output_type": "stream",
          "name": "stderr",
          "text": [
            " 69%|██████▉   | 23028/33396 [06:51<03:38, 47.54it/s]"
          ]
        },
        {
          "output_type": "stream",
          "name": "stdout",
          "text": [
            "The expanded size of the tensor (617) must match the existing size (514) at non-singleton dimension 1.  Target sizes: [1, 617].  Tensor sizes: [1, 514]\n",
            "2\n"
          ]
        },
        {
          "output_type": "stream",
          "name": "stderr",
          "text": [
            " 69%|██████▉   | 23165/33396 [06:54<03:57, 43.06it/s]"
          ]
        },
        {
          "output_type": "stream",
          "name": "stdout",
          "text": [
            "The expanded size of the tensor (523) must match the existing size (514) at non-singleton dimension 1.  Target sizes: [1, 523].  Tensor sizes: [1, 514]\n",
            "3\n"
          ]
        },
        {
          "output_type": "stream",
          "name": "stderr",
          "text": [
            " 71%|███████   | 23700/33396 [07:03<02:37, 61.56it/s]"
          ]
        },
        {
          "output_type": "stream",
          "name": "stdout",
          "text": [
            "The expanded size of the tensor (568) must match the existing size (514) at non-singleton dimension 1.  Target sizes: [1, 568].  Tensor sizes: [1, 514]\n",
            "4\n"
          ]
        },
        {
          "output_type": "stream",
          "name": "stderr",
          "text": [
            " 84%|████████▎ | 27965/33396 [08:19<01:33, 57.94it/s]"
          ]
        },
        {
          "output_type": "stream",
          "name": "stdout",
          "text": [
            "The expanded size of the tensor (617) must match the existing size (514) at non-singleton dimension 1.  Target sizes: [1, 617].  Tensor sizes: [1, 514]\n",
            "5\n"
          ]
        },
        {
          "output_type": "stream",
          "name": "stderr",
          "text": [
            " 84%|████████▍ | 28103/33396 [08:21<01:30, 58.40it/s]"
          ]
        },
        {
          "output_type": "stream",
          "name": "stdout",
          "text": [
            "The expanded size of the tensor (523) must match the existing size (514) at non-singleton dimension 1.  Target sizes: [1, 523].  Tensor sizes: [1, 514]\n",
            "6\n"
          ]
        },
        {
          "output_type": "stream",
          "name": "stderr",
          "text": [
            " 86%|████████▋ | 28812/33396 [08:34<01:15, 60.76it/s]"
          ]
        },
        {
          "output_type": "stream",
          "name": "stdout",
          "text": [
            "The expanded size of the tensor (568) must match the existing size (514) at non-singleton dimension 1.  Target sizes: [1, 568].  Tensor sizes: [1, 514]\n",
            "7\n"
          ]
        },
        {
          "output_type": "stream",
          "name": "stderr",
          "text": [
            "100%|██████████| 33396/33396 [09:53<00:00, 56.30it/s]\n"
          ]
        }
      ]
    },
    {
      "cell_type": "code",
      "source": [
        "res[0]"
      ],
      "metadata": {
        "colab": {
          "base_uri": "https://localhost:8080/"
        },
        "id": "RINHqoKogEqT",
        "outputId": "decf16b3-1d5e-47d7-bd00-8950ff948df4"
      },
      "execution_count": null,
      "outputs": [
        {
          "output_type": "execute_result",
          "data": {
            "text/plain": [
              "array([0.9752794 , 0.02260427, 0.00211631], dtype=float32)"
            ]
          },
          "metadata": {},
          "execution_count": 14
        }
      ]
    },
    {
      "cell_type": "code",
      "source": [
        "import pandas as pd\n",
        "ress = pd.Series(res)"
      ],
      "metadata": {
        "id": "Hvyq5QLR6Y_x"
      },
      "execution_count": null,
      "outputs": []
    },
    {
      "cell_type": "code",
      "source": [
        "ress.to_csv('senimentsBertAllThree.csv')"
      ],
      "metadata": {
        "id": "0x4dgmND6xNO"
      },
      "execution_count": null,
      "outputs": []
    },
    {
      "cell_type": "code",
      "source": [
        "ress"
      ],
      "metadata": {
        "colab": {
          "base_uri": "https://localhost:8080/"
        },
        "id": "5kPq8abg6x22",
        "outputId": "e24bc5db-610b-4237-a7b2-f57b63c7bdec"
      },
      "execution_count": null,
      "outputs": [
        {
          "output_type": "execute_result",
          "data": {
            "text/plain": [
              "0         [0.9752794, 0.022604272, 0.002116306]\n",
              "1        [0.002685675, 0.023319323, 0.97399503]\n",
              "2          [0.7752055, 0.21287917, 0.011915322]\n",
              "3         [0.005768352, 0.09304767, 0.90118396]\n",
              "4          [0.92126226, 0.07193809, 0.00679967]\n",
              "                          ...                  \n",
              "33391    [0.9745224, 0.023127828, 0.0023498212]\n",
              "33392     [0.0021946663, 0.01530327, 0.9825021]\n",
              "33393       [0.2315547, 0.69735193, 0.07109343]\n",
              "33394     [0.58317536, 0.33397937, 0.082845315]\n",
              "33395      [0.005174789, 0.10072993, 0.8940953]\n",
              "Length: 33396, dtype: object"
            ]
          },
          "metadata": {},
          "execution_count": 36
        }
      ]
    },
    {
      "cell_type": "code",
      "source": [],
      "metadata": {
        "id": "2tdPoG-o9Zjt"
      },
      "execution_count": null,
      "outputs": []
    }
  ]
}